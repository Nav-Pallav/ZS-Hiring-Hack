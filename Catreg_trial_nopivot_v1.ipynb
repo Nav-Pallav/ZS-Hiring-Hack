{
 "cells": [
  {
   "cell_type": "code",
   "execution_count": 1,
   "metadata": {},
   "outputs": [],
   "source": [
    "import pandas as pd\n",
    "import numpy as np\n",
    "\n",
    "train = pd.read_csv('C:/Users/np8022/Desktop/ZS Hack/Drug_Switch_Prediction_ParticipantsData/Inputs/train_data.csv')\n",
    "test = pd.read_csv('C:/Users/np8022/Desktop/ZS Hack/Drug_Switch_Prediction_ParticipantsData/Inputs/test_data.csv')\n",
    "train_labels=pd.read_csv('C:/Users/np8022/Desktop/ZS Hack/Drug_Switch_Prediction_ParticipantsData/Inputs/train_labels.csv')\n",
    "fitness=pd.read_csv('C:/Users/np8022/Desktop/ZS Hack/Drug_Switch_Prediction_ParticipantsData/Inputs/fitness_values.csv')\n"
   ]
  },
  {
   "cell_type": "code",
   "execution_count": 2,
   "metadata": {},
   "outputs": [],
   "source": [
    "train=pd.merge(train,train_labels,left_on='patient_id',right_on='patient_id')"
   ]
  },
  {
   "cell_type": "code",
   "execution_count": 3,
   "metadata": {},
   "outputs": [],
   "source": [
    "list=(['patient_id', 'event_name','specialty','plan_type'])\n",
    "    \n",
    "for x in train.columns:\n",
    "        if x in list:\n",
    "            train[x]=train[x].astype(np.object)\n",
    "for x in test.columns:\n",
    "        if x in list:\n",
    "            test[x]=test[x].astype(np.object)"
   ]
  },
  {
   "cell_type": "code",
   "execution_count": 4,
   "metadata": {},
   "outputs": [
    {
     "name": "stdout",
     "output_type": "stream",
     "text": [
      "(14446880, 7)\n",
      "(5242365, 7)\n",
      "(2248964, 6)\n"
     ]
    }
   ],
   "source": [
    "print(train.shape)\n",
    "train.drop_duplicates(keep=False,inplace=True)\n",
    "test.drop_duplicates(keep=False,inplace=True)\n",
    "\n",
    "print(train.shape)\n",
    "print(test.shape)"
   ]
  },
  {
   "cell_type": "code",
   "execution_count": null,
   "metadata": {},
   "outputs": [],
   "source": []
  },
  {
   "cell_type": "code",
   "execution_count": null,
   "metadata": {},
   "outputs": [],
   "source": []
  },
  {
   "cell_type": "code",
   "execution_count": null,
   "metadata": {},
   "outputs": [],
   "source": []
  },
  {
   "cell_type": "code",
   "execution_count": null,
   "metadata": {
    "scrolled": true
   },
   "outputs": [],
   "source": []
  },
  {
   "cell_type": "code",
   "execution_count": null,
   "metadata": {},
   "outputs": [],
   "source": []
  },
  {
   "cell_type": "code",
   "execution_count": null,
   "metadata": {},
   "outputs": [],
   "source": []
  },
  {
   "cell_type": "code",
   "execution_count": null,
   "metadata": {
    "scrolled": true
   },
   "outputs": [],
   "source": []
  },
  {
   "cell_type": "code",
   "execution_count": null,
   "metadata": {
    "scrolled": true
   },
   "outputs": [],
   "source": []
  },
  {
   "cell_type": "code",
   "execution_count": null,
   "metadata": {
    "scrolled": true
   },
   "outputs": [],
   "source": []
  },
  {
   "cell_type": "code",
   "execution_count": null,
   "metadata": {},
   "outputs": [],
   "source": []
  },
  {
   "cell_type": "code",
   "execution_count": null,
   "metadata": {},
   "outputs": [],
   "source": [
    "#Alternate code for gridsearch with simple test_trainsplit\n",
    "\n",
    "Xd,yd=train.drop('outcome_flag',axis=1),train.outcome_flag \n",
    "params = {'n_estimators': [500,1000,1500],\n",
    "        'reg_lambda' : [1,3,15],\n",
    "        'learning_rate' : [0.3,0.01,0.09],\n",
    "        'depth' : [4,7,10],\n",
    "        'bagging_temperature' : [0,1,8],\n",
    "        }\n",
    "                        \n",
    "from catboost import CatBoostClassifier,Pool, cv,CatBoostRegressor\n",
    "from sklearn.model_selection import StratifiedKFold,train_test_split\n",
    "from sklearn.model_selection import KFold\n",
    "kf = KFold(n_splits=3, random_state=13, shuffle=True)\n",
    "from sklearn.model_selection import GridSearchCV\n",
    "\n",
    "X_train,X_val,y_train,y_val = train_test_split(Xd,yd,test_size=0.25,random_state = 13)\n",
    "categorical_features_indices = np.where(Xd.dtypes =='object')[0]\n",
    "catb = CatBoostRegressor(X_train.values,y_train.values,cat_features=categorical_features_indices,random_seed=13)\n",
    "\n",
    "#skf = StratifiedKFold(n_splits=5, shuffle = True, random_state = 13)\n",
    "\n",
    "grid = GridSearchCV(estimator=catb, param_grid=params,cv=(X_val, y_val), scoring=roc_auc, n_jobs=4, verbose=5 )\n",
    "#grid.fit(Xd, yd)\n",
    "#print('\\n All results:')\n",
    "#print(grid.cv_results_)\n",
    "#print('\\n Best estimator:')\n",
    "#print(grid.best_estimator_)\n",
    "#print('\\n Best score:')\n",
    "#print(grid.best_score_ * 2 - 1)\n",
    "#print('\\n Best parameters:')\n",
    "#print(grid.best_params_)\n",
    "results = pd.DataFrame(grid.cv_results_)\n",
    " \n",
    "results.to_csv('C:/Users/np8022/Desktop/Analytics Vidhya competition/BigMart3/Outputs/xgb-grid-search-results-Catreg_multipleoptions.csv', index=False)\n",
    "#y_test = grid.best_estimator_.predict_proba(test)\n",
    "#results_df = pd.DataFrame(data={'id':test_df['id'], 'target':y_test[:,1]})\n",
    "#results_df.to_csv('submission-grid-search-xgb-porto-01.csv', index=False)"
   ]
  },
  {
   "cell_type": "code",
   "execution_count": null,
   "metadata": {},
   "outputs": [],
   "source": [
    "#Alternate code for gridsearch with stratkfold\n",
    "\n",
    "Xd,yd=train.drop('outcome_flag',axis=1),train.outcome_flag \n",
    "params = {'n_estimators': [500,1000,1500],\n",
    "        'reg_lambda' : [1,3,15],\n",
    "        'learning_rate' : [0.3,0.01,0.09],\n",
    "        'depth' : [4,7,10],\n",
    "        'bagging_temperature' : [0,1,8],\n",
    "        }\n",
    "                        \n",
    "from catboost import CatBoostClassifier,Pool, cv,CatBoostRegressor\n",
    "from sklearn.model_selection import StratifiedKFold,train_test_split\n",
    "from sklearn.model_selection import KFold\n",
    "kf = KFold(n_splits=3, random_state=13, shuffle=True)\n",
    "from sklearn.model_selection import GridSearchCV\n",
    "\n",
    "categorical_features_indices = np.where(Xd.dtypes =='object')[0]\n",
    "catb = CatBoostRegressor(cat_features=categorical_features_indices,random_seed=13)\n",
    "\n",
    "skf = StratifiedKFold(n_splits=5, shuffle = True, random_state = 13)\n",
    "\n",
    "grid = GridSearchCV(estimator=catb, param_grid=params, scoring=roc_auc, n_jobs=4, cv=skf.split(Xd,yd), verbose=5 )\n",
    "grid.fit(Xd, yd)\n",
    "#print('\\n All results:')\n",
    "#print(grid.cv_results_)\n",
    "#print('\\n Best estimator:')\n",
    "#print(grid.best_estimator_)\n",
    "#print('\\n Best score:')\n",
    "#print(grid.best_score_ * 2 - 1)\n",
    "#print('\\n Best parameters:')\n",
    "#print(grid.best_params_)\n",
    "results = pd.DataFrame(grid.cv_results_)\n",
    " \n",
    "results.to_csv('C:/Users/np8022/Desktop/Analytics Vidhya competition/BigMart3/Outputs/xgb-grid-search-results-Catreg_multipleoptions.csv', index=False)\n",
    "#y_test = grid.best_estimator_.predict_proba(test)\n",
    "#results_df = pd.DataFrame(data={'id':test_df['id'], 'target':y_test[:,1]})\n",
    "#results_df.to_csv('submission-grid-search-xgb-porto-01.csv', index=False)"
   ]
  },
  {
   "cell_type": "code",
   "execution_count": 5,
   "metadata": {},
   "outputs": [
    {
     "name": "stdout",
     "output_type": "stream",
     "text": [
      "start\n",
      "0:\ttest: 1.0000000\tbest: 1.0000000 (0)\ttotal: 1.38s\tremaining: 11m 30s\n",
      "50:\ttest: 1.0000000\tbest: 1.0000000 (0)\ttotal: 57.5s\tremaining: 8m 26s\n",
      "100:\ttest: 1.0000000\tbest: 1.0000000 (0)\ttotal: 1m 50s\tremaining: 7m 14s\n",
      "150:\ttest: 1.0000000\tbest: 1.0000000 (0)\ttotal: 2m 42s\tremaining: 6m 16s\n",
      "200:\ttest: 1.0000000\tbest: 1.0000000 (0)\ttotal: 3m 37s\tremaining: 5m 23s\n",
      "250:\ttest: 1.0000000\tbest: 1.0000000 (0)\ttotal: 4m 40s\tremaining: 4m 37s\n",
      "300:\ttest: 1.0000000\tbest: 1.0000000 (0)\ttotal: 5m 47s\tremaining: 3m 49s\n",
      "350:\ttest: 1.0000000\tbest: 1.0000000 (0)\ttotal: 6m 44s\tremaining: 2m 51s\n",
      "400:\ttest: 1.0000000\tbest: 1.0000000 (0)\ttotal: 7m 53s\tremaining: 1m 56s\n",
      "450:\ttest: 1.0000000\tbest: 1.0000000 (0)\ttotal: 9m 2s\tremaining: 59s\n",
      "499:\ttest: 1.0000000\tbest: 1.0000000 (0)\ttotal: 10m 27s\tremaining: 0us\n",
      "\n",
      "bestTest = 1\n",
      "bestIteration = 0\n",
      "\n",
      "Shrink model to first 1 iterations.\n"
     ]
    }
   ],
   "source": [
    "#Catboost without gridsearch\n",
    "\n",
    "from catboost import CatBoostClassifier,Pool, cv,CatBoostRegressor\n",
    "from sklearn.model_selection import KFold,train_test_split\n",
    "\n",
    "\n",
    "X,y=train.drop('outcome_flag',axis=1),train.outcome_flag\n",
    "X_train,X_val,y_train,y_val = train_test_split(X,y,test_size=0.25,random_state = 13)\n",
    "\n",
    "categorical_features_indices = np.where(X_train.dtypes =='object')[0]\n",
    "\n",
    "\n",
    "err=[]\n",
    "y_pred_tot=[]\n",
    "#from sklearn.model_selection import KFold,StratifiedKFold\n",
    "#fold=KFold(n_splits=5,shuffle=True,random_state=1994)\n",
    "#for train_index, test_index in fold.split(X,y):\n",
    "#    X_train, X_test = X.iloc[train_index], X.iloc[test_index]\n",
    "#    y_train, y_test = y[train_index], y[test_index]\n",
    "print('start')\n",
    "cat_model5 = CatBoostRegressor(n_estimators=500, # use large n_estimators deliberately to make use of the early stopping\n",
    "                         reg_lambda=15,\n",
    "                         eval_metric='AUC',\n",
    "                         random_seed=13,\n",
    "                         learning_rate = 0.01,\n",
    "                         depth = 7,\n",
    "                         bagging_temperature = 1.0,cat_features=categorical_features_indices)\n",
    "        \n",
    "cat_model5.fit(X_train.values,y_train.values,eval_set=(X_val, y_val),plot=False,use_best_model=True,verbose_eval=50) # early stopping set to 100 to prevent overfitting\n",
    "    #print('pred...')\n",
    "    #p = cat_model5.predict(X_test)\n",
    "    #if sum(p<0)>0:\n",
    "    #    p=pos(p)\n",
    "    #print(\"err: \",np.sqrt(mean_squared_error(y_test,p)))\n",
    "    #err.append(np.sqrt(mean_squared_error(y_test,p)))\n",
    "pred = cat_model5.predict(test)\n",
    "y_pred_tot.append(pred)"
   ]
  },
  {
   "cell_type": "code",
   "execution_count": 6,
   "metadata": {
    "scrolled": false
   },
   "outputs": [
    {
     "name": "stderr",
     "output_type": "stream",
     "text": [
      "C:\\Users\\np8022\\AppData\\Local\\Continuum\\anaconda3\\lib\\site-packages\\numpy\\core\\fromnumeric.py:3118: RuntimeWarning: Mean of empty slice.\n",
      "  out=out, **kwargs)\n",
      "C:\\Users\\np8022\\AppData\\Local\\Continuum\\anaconda3\\lib\\site-packages\\numpy\\core\\_methods.py:85: RuntimeWarning: invalid value encountered in double_scalars\n",
      "  ret = ret.dtype.type(ret / rcount)\n"
     ]
    },
    {
     "name": "stdout",
     "output_type": "stream",
     "text": [
      "nan\n",
      "[0.14396971 0.14396971 0.14396971 ... 0.14396971 0.14396971 0.14396971]\n"
     ]
    },
    {
     "data": {
      "text/html": [
       "<div>\n",
       "<style scoped>\n",
       "    .dataframe tbody tr th:only-of-type {\n",
       "        vertical-align: middle;\n",
       "    }\n",
       "\n",
       "    .dataframe tbody tr th {\n",
       "        vertical-align: top;\n",
       "    }\n",
       "\n",
       "    .dataframe thead th {\n",
       "        text-align: right;\n",
       "    }\n",
       "</style>\n",
       "<table border=\"1\" class=\"dataframe\">\n",
       "  <thead>\n",
       "    <tr style=\"text-align: right;\">\n",
       "      <th></th>\n",
       "      <th>patient_id</th>\n",
       "      <th>outcome_flag</th>\n",
       "    </tr>\n",
       "  </thead>\n",
       "  <tbody>\n",
       "    <tr>\n",
       "      <td>47</td>\n",
       "      <td>patient_148</td>\n",
       "      <td>0.14397</td>\n",
       "    </tr>\n",
       "    <tr>\n",
       "      <td>49</td>\n",
       "      <td>patient_158</td>\n",
       "      <td>0.14397</td>\n",
       "    </tr>\n",
       "    <tr>\n",
       "      <td>52</td>\n",
       "      <td>patient_167</td>\n",
       "      <td>0.14397</td>\n",
       "    </tr>\n",
       "    <tr>\n",
       "      <td>59</td>\n",
       "      <td>patient_180</td>\n",
       "      <td>0.14397</td>\n",
       "    </tr>\n",
       "    <tr>\n",
       "      <td>69</td>\n",
       "      <td>patient_219</td>\n",
       "      <td>0.14397</td>\n",
       "    </tr>\n",
       "  </tbody>\n",
       "</table>\n",
       "</div>"
      ],
      "text/plain": [
       "     patient_id  outcome_flag\n",
       "47  patient_148       0.14397\n",
       "49  patient_158       0.14397\n",
       "52  patient_167       0.14397\n",
       "59  patient_180       0.14397\n",
       "69  patient_219       0.14397"
      ]
     },
     "execution_count": 6,
     "metadata": {},
     "output_type": "execute_result"
    }
   ],
   "source": [
    "# y_pred=rf.predict(dftest_dum.drop('id',axis=1))\n",
    "print(np.mean(err,0))\n",
    "y_pred=np.mean(y_pred_tot,0)\n",
    "print(y_pred)\n",
    "\n",
    "s=pd.DataFrame({'patient_id':test.patient_id,'outcome_flag':y_pred})\n",
    "s.to_csv('C:/Users/np8022/Desktop/ZS Hack/Drug_Switch_Prediction_ParticipantsData/Outputs/Catreg_trial_v0.1.csv',index=False)\n",
    "s.head()"
   ]
  },
  {
   "cell_type": "code",
   "execution_count": 7,
   "metadata": {},
   "outputs": [
    {
     "data": {
      "text/html": [
       "<div>\n",
       "<style scoped>\n",
       "    .dataframe tbody tr th:only-of-type {\n",
       "        vertical-align: middle;\n",
       "    }\n",
       "\n",
       "    .dataframe tbody tr th {\n",
       "        vertical-align: top;\n",
       "    }\n",
       "\n",
       "    .dataframe thead th {\n",
       "        text-align: right;\n",
       "    }\n",
       "</style>\n",
       "<table border=\"1\" class=\"dataframe\">\n",
       "  <thead>\n",
       "    <tr style=\"text-align: right;\">\n",
       "      <th></th>\n",
       "      <th>outcome_flag</th>\n",
       "    </tr>\n",
       "  </thead>\n",
       "  <tbody>\n",
       "    <tr>\n",
       "      <td>count</td>\n",
       "      <td>2.248964e+06</td>\n",
       "    </tr>\n",
       "    <tr>\n",
       "      <td>mean</td>\n",
       "      <td>1.439697e-01</td>\n",
       "    </tr>\n",
       "    <tr>\n",
       "      <td>std</td>\n",
       "      <td>2.903234e-13</td>\n",
       "    </tr>\n",
       "    <tr>\n",
       "      <td>min</td>\n",
       "      <td>1.439697e-01</td>\n",
       "    </tr>\n",
       "    <tr>\n",
       "      <td>25%</td>\n",
       "      <td>1.439697e-01</td>\n",
       "    </tr>\n",
       "    <tr>\n",
       "      <td>50%</td>\n",
       "      <td>1.439697e-01</td>\n",
       "    </tr>\n",
       "    <tr>\n",
       "      <td>75%</td>\n",
       "      <td>1.439697e-01</td>\n",
       "    </tr>\n",
       "    <tr>\n",
       "      <td>max</td>\n",
       "      <td>1.439697e-01</td>\n",
       "    </tr>\n",
       "  </tbody>\n",
       "</table>\n",
       "</div>"
      ],
      "text/plain": [
       "       outcome_flag\n",
       "count  2.248964e+06\n",
       "mean   1.439697e-01\n",
       "std    2.903234e-13\n",
       "min    1.439697e-01\n",
       "25%    1.439697e-01\n",
       "50%    1.439697e-01\n",
       "75%    1.439697e-01\n",
       "max    1.439697e-01"
      ]
     },
     "execution_count": 7,
     "metadata": {},
     "output_type": "execute_result"
    }
   ],
   "source": [
    "s.describe()"
   ]
  }
 ],
 "metadata": {
  "kernelspec": {
   "display_name": "Python 3",
   "language": "python",
   "name": "python3"
  },
  "language_info": {
   "codemirror_mode": {
    "name": "ipython",
    "version": 3
   },
   "file_extension": ".py",
   "mimetype": "text/x-python",
   "name": "python",
   "nbconvert_exporter": "python",
   "pygments_lexer": "ipython3",
   "version": "3.7.4"
  }
 },
 "nbformat": 4,
 "nbformat_minor": 2
}
